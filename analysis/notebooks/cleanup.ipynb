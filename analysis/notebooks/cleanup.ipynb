{
  "cells": [
    {
      "cell_type": "markdown",
      "source": "# LoRa variability static devices data cleanup",
      "metadata": {
        "pycharm": {
          "metadata": false,
          "name": "#%% md\n"
        }
      }
    },
    {
      "cell_type": "code",
      "execution_count": 1,
      "metadata": {
        "collapsed": true,
        "pycharm": {
          "is_executing": false
        }
      },
      "outputs": [],
      "source": "import numpy as np\nimport pandas as pds\nimport matplotlib.pyplot as plt\nimport numexpr\n%matplotlib inline\nimport seaborn as sb\nsb.set()"
    },
    {
      "cell_type": "markdown",
      "source": "The packet data are read from the CSV file.\nThey are then joined with the timestamp of the first valid packet per device.",
      "metadata": {
        "pycharm": {
          "metadata": false,
          "name": "#%% md\n"
        }
      }
    },
    {
      "cell_type": "code",
      "execution_count": 2,
      "outputs": [
        {
          "data": {
            "text/plain": "(20431, 15)"
          },
          "metadata": {},
          "output_type": "execute_result",
          "execution_count": 2
        }
      ],
      "source": "loravar \u003d pds.read_csv(\u0027../data/lora_mons_static.csv\u0027)\ndevices \u003d pds.read_csv(\u0027../data/devices.csv\u0027)\nloravar \u003d loravar.merge(devices, on\u003d\u0027dev_id\u0027)\nloravar.shape",
      "metadata": {
        "pycharm": {
          "metadata": false,
          "name": "#%%\n",
          "is_executing": false
        }
      }
    },
    {
      "cell_type": "code",
      "execution_count": 3,
      "outputs": [
        {
          "data": {
            "text/plain": "received            object\ndev_id              object\ndev_eui             object\ngtw_id              object\ncounter              int64\nfrequency          float64\ndata_rate           object\ncoding_rate         object\nrssi                 int64\nsnr                float64\nbattery            float64\nhumidity           float64\npressure           float64\ntemperature        float64\nstart_timestamp     object\ndtype: object"
          },
          "metadata": {},
          "output_type": "execute_result",
          "execution_count": 3
        }
      ],
      "source": "loravar.dtypes",
      "metadata": {
        "pycharm": {
          "metadata": false,
          "name": "#%%\n",
          "is_executing": false
        }
      }
    },
    {
      "cell_type": "markdown",
      "source": "Data before the first valid timestamp must be dropped.",
      "metadata": {
        "pycharm": {
          "metadata": false,
          "name": "#%% md\n"
        }
      }
    },
    {
      "cell_type": "code",
      "execution_count": 4,
      "outputs": [],
      "source": "loravar[\u0027received\u0027] \u003d pds.to_datetime(loravar[\u0027received\u0027])\nloravar[\u0027start_timestamp\u0027] \u003d pds.to_datetime(loravar[\u0027start_timestamp\u0027])\nloravar \u003d loravar.loc[loravar[\u0027received\u0027] \u003e loravar[\u0027start_timestamp\u0027]]",
      "metadata": {
        "pycharm": {
          "metadata": false,
          "name": "#%%\n",
          "is_executing": false
        }
      }
    },
    {
      "cell_type": "markdown",
      "source": "Some columns are redundant and can be dropped.",
      "metadata": {
        "pycharm": {
          "metadata": false,
          "name": "#%% md\n"
        }
      }
    },
    {
      "cell_type": "code",
      "execution_count": 5,
      "outputs": [
        {
          "data": {
            "text/plain": "(19024, 11)"
          },
          "metadata": {},
          "output_type": "execute_result",
          "execution_count": 5
        }
      ],
      "source": "loravar.drop(columns\u003d[\u0027dev_eui\u0027, \u0027counter\u0027, \u0027coding_rate\u0027, \u0027start_timestamp\u0027], inplace\u003dTrue)\nloravar.shape",
      "metadata": {
        "pycharm": {
          "metadata": false,
          "name": "#%%\n",
          "is_executing": false
        }
      }
    },
    {
      "cell_type": "markdown",
      "source": "The dataset contains a few incomplete rows that we can drop.\nThese rows miss the data coming from the payload.",
      "metadata": {
        "pycharm": {
          "metadata": false,
          "name": "#%% md\n"
        }
      }
    },
    {
      "cell_type": "code",
      "execution_count": 6,
      "outputs": [
        {
          "data": {
            "text/plain": "received        0\ndev_id          0\ngtw_id          0\nfrequency       0\ndata_rate       0\nrssi            0\nsnr             0\nbattery        18\nhumidity       18\npressure       18\ntemperature    18\ndtype: int64"
          },
          "metadata": {},
          "output_type": "execute_result",
          "execution_count": 6
        }
      ],
      "source": "pds.isna(loravar).sum()",
      "metadata": {
        "pycharm": {
          "metadata": false,
          "name": "#%%\n",
          "is_executing": false
        }
      }
    },
    {
      "cell_type": "code",
      "execution_count": 7,
      "outputs": [
        {
          "data": {
            "text/plain": "(19006, 11)"
          },
          "metadata": {},
          "output_type": "execute_result",
          "execution_count": 7
        }
      ],
      "source": "loravar.dropna(inplace\u003dTrue)\nloravar.shape",
      "metadata": {
        "pycharm": {
          "metadata": false,
          "name": "#%%\n",
          "is_executing": false
        }
      }
    },
    {
      "cell_type": "markdown",
      "source": "Since they were fixed in the database, there is no duplicate to drop.",
      "metadata": {
        "pycharm": {
          "metadata": false,
          "name": "#%% md\n",
          "is_executing": false
        }
      }
    },
    {
      "cell_type": "code",
      "execution_count": 12,
      "outputs": [
        {
          "data": {
            "text/plain": "0"
          },
          "metadata": {},
          "output_type": "execute_result",
          "execution_count": 12
        }
      ],
      "source": "loravar.duplicated().sum()",
      "metadata": {
        "pycharm": {
          "metadata": false,
          "name": "#%%\n",
          "is_executing": false
        }
      }
    },
    {
      "cell_type": "markdown",
      "source": "After cleanup, the dataset covers the time range hereunder.\nAlthough the situation might be very different per device and per gateway\nAs could be expected, the gateway on the roof of Cité Houzeau is the one that received the most packets.",
      "metadata": {
        "pycharm": {
          "metadata": false,
          "name": "#%% md\n"
        }
      }
    },
    {
      "cell_type": "code",
      "execution_count": 10,
      "outputs": [
        {
          "data": {
            "text/plain": "Timedelta(\u002723 days 23:16:41.701058\u0027)"
          },
          "metadata": {},
          "output_type": "execute_result",
          "execution_count": 10
        }
      ],
      "source": "loravar[\u0027received\u0027].max() - loravar[\u0027received\u0027].min()",
      "metadata": {
        "pycharm": {
          "metadata": false,
          "name": "#%%\n",
          "is_executing": false
        }
      }
    },
    {
      "cell_type": "code",
      "execution_count": 11,
      "outputs": [
        {
          "data": {
            "text/plain": "gtw_id       eui-0000024b08030186  iotlab-rpi-03\ndev_id                                          \nstatic_6_01                 294.0            NaN\nstatic_6_02                1541.0            NaN\nstatic_6_03                3290.0         2570.0\nstatic_7_01                3169.0         2447.0\nstatic_7_02                3169.0           66.0\nstatic_8_01                2460.0            NaN",
            "text/html": "\u003cdiv\u003e\n\u003cstyle scoped\u003e\n    .dataframe tbody tr th:only-of-type {\n        vertical-align: middle;\n    }\n\n    .dataframe tbody tr th {\n        vertical-align: top;\n    }\n\n    .dataframe thead th {\n        text-align: right;\n    }\n\u003c/style\u003e\n\u003ctable border\u003d\"1\" class\u003d\"dataframe\"\u003e\n  \u003cthead\u003e\n    \u003ctr style\u003d\"text-align: right;\"\u003e\n      \u003cth\u003egtw_id\u003c/th\u003e\n      \u003cth\u003eeui-0000024b08030186\u003c/th\u003e\n      \u003cth\u003eiotlab-rpi-03\u003c/th\u003e\n    \u003c/tr\u003e\n    \u003ctr\u003e\n      \u003cth\u003edev_id\u003c/th\u003e\n      \u003cth\u003e\u003c/th\u003e\n      \u003cth\u003e\u003c/th\u003e\n    \u003c/tr\u003e\n  \u003c/thead\u003e\n  \u003ctbody\u003e\n    \u003ctr\u003e\n      \u003cth\u003estatic_6_01\u003c/th\u003e\n      \u003ctd\u003e294.0\u003c/td\u003e\n      \u003ctd\u003eNaN\u003c/td\u003e\n    \u003c/tr\u003e\n    \u003ctr\u003e\n      \u003cth\u003estatic_6_02\u003c/th\u003e\n      \u003ctd\u003e1541.0\u003c/td\u003e\n      \u003ctd\u003eNaN\u003c/td\u003e\n    \u003c/tr\u003e\n    \u003ctr\u003e\n      \u003cth\u003estatic_6_03\u003c/th\u003e\n      \u003ctd\u003e3290.0\u003c/td\u003e\n      \u003ctd\u003e2570.0\u003c/td\u003e\n    \u003c/tr\u003e\n    \u003ctr\u003e\n      \u003cth\u003estatic_7_01\u003c/th\u003e\n      \u003ctd\u003e3169.0\u003c/td\u003e\n      \u003ctd\u003e2447.0\u003c/td\u003e\n    \u003c/tr\u003e\n    \u003ctr\u003e\n      \u003cth\u003estatic_7_02\u003c/th\u003e\n      \u003ctd\u003e3169.0\u003c/td\u003e\n      \u003ctd\u003e66.0\u003c/td\u003e\n    \u003c/tr\u003e\n    \u003ctr\u003e\n      \u003cth\u003estatic_8_01\u003c/th\u003e\n      \u003ctd\u003e2460.0\u003c/td\u003e\n      \u003ctd\u003eNaN\u003c/td\u003e\n    \u003c/tr\u003e\n  \u003c/tbody\u003e\n\u003c/table\u003e\n\u003c/div\u003e"
          },
          "metadata": {},
          "output_type": "execute_result",
          "execution_count": 11
        }
      ],
      "source": "loravar.groupby([\u0027dev_id\u0027, \u0027gtw_id\u0027])[\u0027received\u0027].count().unstack()\n",
      "metadata": {
        "pycharm": {
          "metadata": false,
          "name": "#%%\n",
          "is_executing": false
        }
      }
    }
  ],
  "metadata": {
    "language_info": {
      "codemirror_mode": {
        "name": "ipython",
        "version": 2
      },
      "file_extension": ".py",
      "mimetype": "text/x-python",
      "name": "python",
      "nbconvert_exporter": "python",
      "pygments_lexer": "ipython2",
      "version": "2.7.6"
    },
    "kernelspec": {
      "name": "python3",
      "language": "python",
      "display_name": "Python 3"
    },
    "stem_cell": {
      "cell_type": "raw",
      "source": "",
      "metadata": {
        "pycharm": {
          "metadata": false
        }
      }
    }
  },
  "nbformat": 4,
  "nbformat_minor": 0
}