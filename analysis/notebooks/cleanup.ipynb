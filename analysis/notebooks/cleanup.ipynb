{
  "cells": [
    {
      "cell_type": "markdown",
      "source": "# LoRa variability data cleanup",
      "metadata": {
        "pycharm": {
          "metadata": false,
          "name": "#%% md\n"
        }
      }
    },
    {
      "cell_type": "code",
      "execution_count": 103,
      "metadata": {
        "collapsed": true,
        "pycharm": {
          "is_executing": false
        }
      },
      "outputs": [],
      "source": "import numpy as np\nimport pandas as pds\nimport matplotlib.pyplot as plt\nimport numexpr\n%matplotlib inline\nimport seaborn as sb\nsb.set()"
    },
    {
      "cell_type": "markdown",
      "source": "The packet data are read from the CSV file.\nThey are then joined with the timestamp of the first valid packet per device.",
      "metadata": {
        "pycharm": {
          "metadata": false,
          "name": "#%% md\n"
        }
      }
    },
    {
      "cell_type": "code",
      "execution_count": 169,
      "outputs": [
        {
          "data": {
            "text/plain": "(111092, 15)"
          },
          "metadata": {},
          "output_type": "execute_result",
          "execution_count": 169
        }
      ],
      "source": "loravar \u003d pds.read_csv(\u0027../data/loravar.csv\u0027)\ndevices \u003d pds.read_csv(\u0027../data/devices.csv\u0027)\nloravar \u003d loravar.merge(devices, on\u003d\u0027dev_id\u0027)\nloravar.shape",
      "metadata": {
        "pycharm": {
          "metadata": false,
          "name": "#%%\n",
          "is_executing": false
        }
      }
    },
    {
      "cell_type": "code",
      "execution_count": 170,
      "outputs": [
        {
          "data": {
            "text/plain": "received            object\ndev_id              object\ndev_eui             object\ngtw_id              object\ncounter              int64\nfrequency          float64\ndata_rate           object\ncoding_rate         object\nrssi                 int64\nsnr                float64\nbattery            float64\nhumidity           float64\npressure           float64\ntemperature        float64\nstart_timestamp     object\ndtype: object"
          },
          "metadata": {},
          "output_type": "execute_result",
          "execution_count": 170
        }
      ],
      "source": "loravar.dtypes",
      "metadata": {
        "pycharm": {
          "metadata": false,
          "name": "#%%\n",
          "is_executing": false
        }
      }
    },
    {
      "cell_type": "markdown",
      "source": "Data before the first valid timestamp must be dropped.",
      "metadata": {
        "pycharm": {
          "metadata": false,
          "name": "#%% md\n"
        }
      }
    },
    {
      "cell_type": "code",
      "execution_count": 171,
      "outputs": [],
      "source": "loravar[\u0027received\u0027] \u003d pds.to_datetime(loravar[\u0027received\u0027])\nloravar[\u0027start_timestamp\u0027] \u003d pds.to_datetime(loravar[\u0027start_timestamp\u0027])\nloravar \u003d loravar.loc[loravar[\u0027received\u0027] \u003e loravar[\u0027start_timestamp\u0027]]",
      "metadata": {
        "pycharm": {
          "metadata": false,
          "name": "#%%\n",
          "is_executing": false
        }
      }
    },
    {
      "cell_type": "markdown",
      "source": "Some columns are redundant and can be dropped.",
      "metadata": {
        "pycharm": {
          "metadata": false,
          "name": "#%% md\n"
        }
      }
    },
    {
      "cell_type": "code",
      "execution_count": 172,
      "outputs": [
        {
          "data": {
            "text/plain": "(100210, 11)"
          },
          "metadata": {},
          "output_type": "execute_result",
          "execution_count": 172
        }
      ],
      "source": "loravar.drop(columns\u003d[\u0027dev_eui\u0027, \u0027counter\u0027, \u0027coding_rate\u0027, \u0027start_timestamp\u0027], inplace\u003dTrue)\nloravar.shape",
      "metadata": {
        "pycharm": {
          "metadata": false,
          "name": "#%%\n",
          "is_executing": false
        }
      }
    },
    {
      "cell_type": "markdown",
      "source": "The dataset contains a few incomplete rows that we can drop.\nThese rows miss the data coming from the payload.",
      "metadata": {
        "pycharm": {
          "metadata": false,
          "name": "#%% md\n"
        }
      }
    },
    {
      "cell_type": "code",
      "execution_count": 173,
      "outputs": [
        {
          "data": {
            "text/plain": "received        0\ndev_id          0\ngtw_id          0\nfrequency       0\ndata_rate       0\nrssi            0\nsnr             0\nbattery        18\nhumidity       18\npressure       18\ntemperature    18\ndtype: int64"
          },
          "metadata": {},
          "output_type": "execute_result",
          "execution_count": 173
        }
      ],
      "source": "pds.isna(loravar).sum()",
      "metadata": {
        "pycharm": {
          "metadata": false,
          "name": "#%%\n",
          "is_executing": false
        }
      }
    },
    {
      "cell_type": "code",
      "execution_count": 174,
      "outputs": [
        {
          "data": {
            "text/plain": "(100192, 11)"
          },
          "metadata": {},
          "output_type": "execute_result",
          "execution_count": 174
        }
      ],
      "source": "loravar.dropna(inplace\u003dTrue)\nloravar.shape\n",
      "metadata": {
        "pycharm": {
          "metadata": false,
          "name": "#%%\n",
          "is_executing": false
        }
      }
    }
  ],
  "metadata": {
    "language_info": {
      "codemirror_mode": {
        "name": "ipython",
        "version": 2
      },
      "file_extension": ".py",
      "mimetype": "text/x-python",
      "name": "python",
      "nbconvert_exporter": "python",
      "pygments_lexer": "ipython2",
      "version": "2.7.6"
    },
    "kernelspec": {
      "name": "python3",
      "language": "python",
      "display_name": "Python 3"
    },
    "stem_cell": {
      "cell_type": "raw",
      "source": "",
      "metadata": {
        "pycharm": {
          "metadata": false
        }
      }
    }
  },
  "nbformat": 4,
  "nbformat_minor": 0
}