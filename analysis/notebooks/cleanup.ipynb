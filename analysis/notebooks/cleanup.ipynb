{
  "cells": [
    {
      "cell_type": "markdown",
      "metadata": {
        "pycharm": {
          "metadata": false,
          "name": "#%% md\n"
        }
      },
      "source": [
        "# LoRa variability static devices data cleanup"
      ]
    },
    {
      "cell_type": "code",
      "execution_count": 1,
      "metadata": {
        "pycharm": {
          "is_executing": false
        }
      },
      "outputs": [],
      "source": [
        "import pandas as pd\n",
        "import numexpr\n",
        "%matplotlib inline"
      ]
    },
    {
      "cell_type": "markdown",
      "metadata": {
        "pycharm": {
          "metadata": false,
          "name": "#%% md\n"
        }
      },
      "source": [
        "The packet data are read from the CSV file.\n",
        "They are then joined with the timestamp of the first valid packet per device."
      ]
    },
    {
      "cell_type": "code",
      "execution_count": 2,
      "metadata": {
        "pycharm": {
          "is_executing": false,
          "metadata": false,
          "name": "#%%\n"
        }
      },
      "outputs": [
        {
          "data": {
            "text/plain": "(41896, 15)"
          },
          "metadata": {},
          "output_type": "execute_result",
          "execution_count": 2
        }
      ],
      "source": [
        "loravar \u003d pd.read_csv(\u0027../data/lora_mons_static.csv\u0027)\n",
        "devices \u003d pd.read_csv(\u0027../data/devices.csv\u0027)\n",
        "loravar \u003d loravar.merge(devices, on\u003d\u0027dev_id\u0027)\n",
        "loravar.shape"
      ]
    },
    {
      "cell_type": "code",
      "execution_count": 3,
      "metadata": {
        "pycharm": {
          "is_executing": false,
          "metadata": false,
          "name": "#%%\n"
        }
      },
      "outputs": [
        {
          "data": {
            "text/plain": "received            object\ndev_id              object\ndev_eui             object\ngtw_id              object\ncounter              int64\nfrequency          float64\ndata_rate           object\ncoding_rate         object\nrssi                 int64\nsnr                float64\nbattery            float64\nhumidity           float64\npressure           float64\ntemperature        float64\nstart_timestamp     object\ndtype: object"
          },
          "metadata": {},
          "output_type": "execute_result",
          "execution_count": 3
        }
      ],
      "source": [
        "loravar.dtypes"
      ]
    },
    {
      "cell_type": "markdown",
      "metadata": {
        "pycharm": {
          "metadata": false,
          "name": "#%% md\n"
        }
      },
      "source": [
        "Data before the first valid timestamp must be dropped."
      ]
    },
    {
      "cell_type": "code",
      "execution_count": 4,
      "metadata": {
        "pycharm": {
          "is_executing": false,
          "metadata": false,
          "name": "#%%\n"
        }
      },
      "outputs": [],
      "source": [
        "loravar[\u0027received\u0027] \u003d pd.to_datetime(loravar[\u0027received\u0027])\n",
        "loravar[\u0027start_timestamp\u0027] \u003d pd.to_datetime(loravar[\u0027start_timestamp\u0027])\n",
        "loravar \u003d loravar.loc[loravar[\u0027received\u0027] \u003e loravar[\u0027start_timestamp\u0027]]"
      ]
    },
    {
      "cell_type": "markdown",
      "metadata": {
        "pycharm": {
          "metadata": false,
          "name": "#%% md\n"
        }
      },
      "source": [
        "Some columns are redundant and can be dropped."
      ]
    },
    {
      "cell_type": "code",
      "execution_count": 5,
      "metadata": {
        "pycharm": {
          "is_executing": false,
          "metadata": false,
          "name": "#%%\n"
        }
      },
      "outputs": [
        {
          "data": {
            "text/plain": "(38780, 11)"
          },
          "metadata": {},
          "output_type": "execute_result",
          "execution_count": 5
        }
      ],
      "source": [
        "loravar.drop(columns\u003d[\u0027dev_eui\u0027, \u0027counter\u0027, \u0027coding_rate\u0027, \u0027start_timestamp\u0027], inplace\u003dTrue)\n",
        "loravar.shape"
      ]
    },
    {
      "cell_type": "markdown",
      "metadata": {
        "pycharm": {
          "metadata": false,
          "name": "#%% md\n"
        }
      },
      "source": [
        "The dataset contains a few incomplete rows that we can drop.\n",
        "These rows miss the data coming from the payload."
      ]
    },
    {
      "cell_type": "code",
      "execution_count": 6,
      "metadata": {
        "pycharm": {
          "is_executing": false,
          "metadata": false,
          "name": "#%%\n"
        }
      },
      "outputs": [
        {
          "data": {
            "text/plain": "received        0\ndev_id          0\ngtw_id          0\nfrequency       0\ndata_rate       0\nrssi            0\nsnr             0\nbattery        63\nhumidity       63\npressure       63\ntemperature    63\ndtype: int64"
          },
          "metadata": {},
          "output_type": "execute_result",
          "execution_count": 6
        }
      ],
      "source": [
        "pd.isna(loravar).sum()"
      ]
    },
    {
      "cell_type": "code",
      "execution_count": 7,
      "metadata": {
        "pycharm": {
          "is_executing": false,
          "metadata": false,
          "name": "#%%\n"
        }
      },
      "outputs": [
        {
          "data": {
            "text/plain": "(38717, 11)"
          },
          "metadata": {},
          "output_type": "execute_result",
          "execution_count": 7
        }
      ],
      "source": [
        "loravar.dropna(inplace\u003dTrue)\n",
        "loravar.shape"
      ]
    },
    {
      "cell_type": "markdown",
      "metadata": {
        "pycharm": {
          "is_executing": false,
          "metadata": false,
          "name": "#%% md\n"
        }
      },
      "source": [
        "Since they were fixed in the database, there is no duplicate to drop."
      ]
    },
    {
      "cell_type": "code",
      "execution_count": 8,
      "metadata": {
        "pycharm": {
          "is_executing": false,
          "metadata": false,
          "name": "#%%\n"
        }
      },
      "outputs": [
        {
          "data": {
            "text/plain": "0"
          },
          "metadata": {},
          "output_type": "execute_result",
          "execution_count": 8
        }
      ],
      "source": [
        "loravar.duplicated().sum()"
      ]
    },
    {
      "cell_type": "markdown",
      "metadata": {
        "pycharm": {
          "metadata": false,
          "name": "#%% md\n"
        }
      },
      "source": [
        "After cleanup, the dataset covers the time range hereunder.\n",
        "Although the situation might be very different per device and per gateway\n",
        "As could be expected, the gateway on the roof of Cité Houzeau is the one that received the most packets."
      ]
    },
    {
      "cell_type": "code",
      "execution_count": 9,
      "metadata": {
        "pycharm": {
          "is_executing": false,
          "metadata": false,
          "name": "#%%\n"
        }
      },
      "outputs": [
        {
          "data": {
            "text/plain": "received   41 days 02:20:25.362269\ndtype: timedelta64[ns]"
          },
          "metadata": {},
          "output_type": "execute_result",
          "execution_count": 9
        }
      ],
      "source": [
        "loravar[[\u0027received\u0027]].max() - loravar[[\u0027received\u0027]].min()"
      ]
    },
    {
      "cell_type": "code",
      "execution_count": 10,
      "metadata": {
        "pycharm": {
          "is_executing": false,
          "metadata": false,
          "name": "#%%\n"
        }
      },
      "outputs": [
        {
          "data": {
            "text/plain": "gtw_id       eui-0000024b08030186  iotlab-rpi-03\ndev_id                                          \nstatic_6_01                  2197              0\nstatic_6_02                  3053              0\nstatic_6_03                  5659           3483\nstatic_7_01                  5555           4551\nstatic_7_02                  5557             77\nstatic_8_01                  4219              0\nstatic_8_03                  2623           1723\nstatic_8_04                    20              0",
            "text/html": "\u003cdiv\u003e\n\u003cstyle scoped\u003e\n    .dataframe tbody tr th:only-of-type {\n        vertical-align: middle;\n    }\n\n    .dataframe tbody tr th {\n        vertical-align: top;\n    }\n\n    .dataframe thead th {\n        text-align: right;\n    }\n\u003c/style\u003e\n\u003ctable border\u003d\"1\" class\u003d\"dataframe\"\u003e\n  \u003cthead\u003e\n    \u003ctr style\u003d\"text-align: right;\"\u003e\n      \u003cth\u003egtw_id\u003c/th\u003e\n      \u003cth\u003eeui-0000024b08030186\u003c/th\u003e\n      \u003cth\u003eiotlab-rpi-03\u003c/th\u003e\n    \u003c/tr\u003e\n    \u003ctr\u003e\n      \u003cth\u003edev_id\u003c/th\u003e\n      \u003cth\u003e\u003c/th\u003e\n      \u003cth\u003e\u003c/th\u003e\n    \u003c/tr\u003e\n  \u003c/thead\u003e\n  \u003ctbody\u003e\n    \u003ctr\u003e\n      \u003cth\u003estatic_6_01\u003c/th\u003e\n      \u003ctd\u003e2197\u003c/td\u003e\n      \u003ctd\u003e0\u003c/td\u003e\n    \u003c/tr\u003e\n    \u003ctr\u003e\n      \u003cth\u003estatic_6_02\u003c/th\u003e\n      \u003ctd\u003e3053\u003c/td\u003e\n      \u003ctd\u003e0\u003c/td\u003e\n    \u003c/tr\u003e\n    \u003ctr\u003e\n      \u003cth\u003estatic_6_03\u003c/th\u003e\n      \u003ctd\u003e5659\u003c/td\u003e\n      \u003ctd\u003e3483\u003c/td\u003e\n    \u003c/tr\u003e\n    \u003ctr\u003e\n      \u003cth\u003estatic_7_01\u003c/th\u003e\n      \u003ctd\u003e5555\u003c/td\u003e\n      \u003ctd\u003e4551\u003c/td\u003e\n    \u003c/tr\u003e\n    \u003ctr\u003e\n      \u003cth\u003estatic_7_02\u003c/th\u003e\n      \u003ctd\u003e5557\u003c/td\u003e\n      \u003ctd\u003e77\u003c/td\u003e\n    \u003c/tr\u003e\n    \u003ctr\u003e\n      \u003cth\u003estatic_8_01\u003c/th\u003e\n      \u003ctd\u003e4219\u003c/td\u003e\n      \u003ctd\u003e0\u003c/td\u003e\n    \u003c/tr\u003e\n    \u003ctr\u003e\n      \u003cth\u003estatic_8_03\u003c/th\u003e\n      \u003ctd\u003e2623\u003c/td\u003e\n      \u003ctd\u003e1723\u003c/td\u003e\n    \u003c/tr\u003e\n    \u003ctr\u003e\n      \u003cth\u003estatic_8_04\u003c/th\u003e\n      \u003ctd\u003e20\u003c/td\u003e\n      \u003ctd\u003e0\u003c/td\u003e\n    \u003c/tr\u003e\n  \u003c/tbody\u003e\n\u003c/table\u003e\n\u003c/div\u003e"
          },
          "metadata": {},
          "output_type": "execute_result",
          "execution_count": 10
        }
      ],
      "source": [
        "loravar.groupby([\u0027dev_id\u0027, \u0027gtw_id\u0027])[\u0027received\u0027].count().unstack(fill_value\u003d0)"
      ]
    },
    {
      "cell_type": "code",
      "execution_count": 11,
      "metadata": {
        "pycharm": {
          "is_executing": false,
          "metadata": false,
          "name": "#%%\n"
        }
      },
      "outputs": [],
      "source": [
        "loravar.to_pickle(\u0027../data/lora_mons_static_clean.pkl.gz\u0027, compression\u003d\u0027gzip\u0027)"
      ]
    }
  ],
  "metadata": {
    "kernelspec": {
      "display_name": "Python 3",
      "language": "python",
      "name": "python3"
    },
    "language_info": {
      "codemirror_mode": {
        "name": "ipython",
        "version": 3
      },
      "file_extension": ".py",
      "mimetype": "text/x-python",
      "name": "python",
      "nbconvert_exporter": "python",
      "pygments_lexer": "ipython3",
      "version": "3.7.3"
    },
    "stem_cell": {
      "cell_type": "raw",
      "metadata": {
        "pycharm": {
          "metadata": false
        }
      },
      "source": ""
    }
  },
  "nbformat": 4,
  "nbformat_minor": 1
}