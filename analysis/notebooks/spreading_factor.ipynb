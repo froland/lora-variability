{
  "cells": [
    {
      "cell_type": "code",
      "execution_count": 16,
      "outputs": [],
      "source": "%matplotlib inline\nimport matplotlib.pyplot as plt\nimport seaborn as sns\nsns.set_style(\"darkgrid\")\nimport numpy as np\nimport pandas as pd",
      "metadata": {
        "pycharm": {
          "metadata": false,
          "name": "#%%\n",
          "is_executing": false
        }
      }
    },
    {
      "cell_type": "markdown",
      "metadata": {
        "collapsed": true,
        "pycharm": {
          "name": "#%% md\n"
        }
      },
      "source": "# Spreading Factor\n\n## Airtime\n\nThe higher the SF parameter is, the longer it takes to send a packet.\nAs the duty cycle limitation is computed based on the airtime, the higher SF were chosen less often than the lower."
    },
    {
      "cell_type": "code",
      "execution_count": 3,
      "outputs": [],
      "source": "def insert_packet(spreading_factor):\n    if spreading_factor \u003c 7:\n        return []\n    return insert_packet(spreading_factor - 1) + [spreading_factor] + insert_packet(spreading_factor - 1)\n\nsf_as_category \u003d pd.Categorical(insert_packet(12), categories\u003d[7, 8, 9, 10, 11, 12], ordered\u003dTrue)\npyramid \u003d pd.DataFrame({\u0027SF\u0027: sf_as_category})\npyramid[\u0027seq_num\u0027] \u003d pyramid.index",
      "metadata": {
        "pycharm": {
          "metadata": false,
          "name": "#%%\n",
          "is_executing": false
        }
      }
    },
    {
      "cell_type": "code",
      "execution_count": 38,
      "outputs": [
        {
          "data": {
            "text/plain": "\u003cFigure size 432x288 with 1 Axes\u003e",
            "image/png": "[encoded data removed]"
          },
          "metadata": {},
          "output_type": "display_data"
        }
      ],
      "source": "cmap \u003d sns.color_palette(\u0027husl\u0027, 6)\nfig \u003d sns.scatterplot(x\u003dpyramid.index, y\u003d\u0027SF\u0027, data\u003dpyramid, hue\u003d\u0027SF\u0027, legend\u003dFalse, palette\u003dcmap)\nfig.set_title(\u0027Spreading factor sequence\u0027)\nfig.set_ylabel(\u0027spreading factor\u0027)\nfig.set_xlabel(\u0027time\u0027);",
      "metadata": {
        "pycharm": {
          "metadata": false,
          "name": "#%%\n",
          "is_executing": false
        }
      }
    },
    {
      "cell_type": "code",
      "execution_count": 5,
      "outputs": [
        {
          "data": {
            "text/plain": "SF       7   8   9   10  11  12\nseq_num  32  16   8   4   2   1",
            "text/html": "\u003cdiv\u003e\n\u003cstyle scoped\u003e\n    .dataframe tbody tr th:only-of-type {\n        vertical-align: middle;\n    }\n\n    .dataframe tbody tr th {\n        vertical-align: top;\n    }\n\n    .dataframe thead th {\n        text-align: right;\n    }\n\u003c/style\u003e\n\u003ctable border\u003d\"1\" class\u003d\"dataframe\"\u003e\n  \u003cthead\u003e\n    \u003ctr style\u003d\"text-align: right;\"\u003e\n      \u003cth\u003eSF\u003c/th\u003e\n      \u003cth\u003e7\u003c/th\u003e\n      \u003cth\u003e8\u003c/th\u003e\n      \u003cth\u003e9\u003c/th\u003e\n      \u003cth\u003e10\u003c/th\u003e\n      \u003cth\u003e11\u003c/th\u003e\n      \u003cth\u003e12\u003c/th\u003e\n    \u003c/tr\u003e\n  \u003c/thead\u003e\n  \u003ctbody\u003e\n    \u003ctr\u003e\n      \u003cth\u003eseq_num\u003c/th\u003e\n      \u003ctd\u003e32\u003c/td\u003e\n      \u003ctd\u003e16\u003c/td\u003e\n      \u003ctd\u003e8\u003c/td\u003e\n      \u003ctd\u003e4\u003c/td\u003e\n      \u003ctd\u003e2\u003c/td\u003e\n      \u003ctd\u003e1\u003c/td\u003e\n    \u003c/tr\u003e\n  \u003c/tbody\u003e\n\u003c/table\u003e\n\u003c/div\u003e"
          },
          "metadata": {},
          "output_type": "execute_result",
          "execution_count": 5
        }
      ],
      "source": "pyramid.groupby(\u0027SF\u0027).count().T",
      "metadata": {
        "pycharm": {
          "metadata": false,
          "name": "#%%\n",
          "is_executing": false
        }
      }
    },
    {
      "cell_type": "code",
      "execution_count": 39,
      "outputs": [
        {
          "data": {
            "text/plain": "\u003cFigure size 432x288 with 1 Axes\u003e",
            "image/png": "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\u003d\u003d\n"
          },
          "metadata": {},
          "output_type": "display_data"
        }
      ],
      "source": "fig \u003d sns.countplot(\u0027SF\u0027, data\u003dpyramid, palette\u003dcmap)\nfig.set_xlabel(\u0027spreading factor\u0027)\nfig.set_title(\u0027Packet count by spreading factor\u0027);",
      "metadata": {
        "pycharm": {
          "metadata": false,
          "name": "#%%\n",
          "is_executing": false
        }
      }
    },
    {
      "cell_type": "markdown",
      "source": "Using airtime calculator: https://avbentem.github.io/lorawan-airtime-ui/ttn/eu868/5",
      "metadata": {
        "pycharm": {
          "metadata": false,
          "name": "#%% md\n"
        }
      }
    },
    {
      "cell_type": "code",
      "execution_count": 40,
      "outputs": [],
      "source": "lorawan_airtime \u003d pd.DataFrame({\u0027SF\u0027: [7, 8, 9, 10, 11, 12],\n                                \u0027airtime\u0027: [51.46, 92.67, 185.34, 329.73, 659.46, 1318.91]})\nlorawan_airtime[\u0027airtime\u0027] \u003d lorawan_airtime[\u0027airtime\u0027] / 1000\npacket_sequence \u003d pyramid.merge(lorawan_airtime, on\u003d\u0027SF\u0027, how\u003d\u0027inner\u0027).sort_values(\u0027seq_num\u0027).set_index(\u0027seq_num\u0027)",
      "metadata": {
        "pycharm": {
          "metadata": false,
          "name": "#%%\n",
          "is_executing": false
        }
      }
    },
    {
      "cell_type": "markdown",
      "source": "In seconds, the airtime per 24 hours is equal to",
      "metadata": {
        "pycharm": {
          "metadata": false,
          "name": "#%% md\n"
        }
      }
    },
    {
      "cell_type": "code",
      "execution_count": 8,
      "outputs": [
        {
          "data": {
            "text/plain": "19.801555162790688"
          },
          "metadata": {},
          "output_type": "execute_result",
          "execution_count": 8
        }
      ],
      "source": "index \u003d pd.timedelta_range(start\u003d\u00270 day\u0027, periods\u003dlen(packet_sequence.index) * 100, freq\u003d\u002710 min\u0027)\ntenminute_sequence \u003d packet_sequence\nfor i in range(99):\n    tenminute_sequence \u003d tenminute_sequence.append(packet_sequence)\ntenminute_sequence.index \u003d index\ntenminute_sequence.resample(\u00271D\u0027).sum()[\u0027airtime\u0027][0:-1].mean()",
      "metadata": {
        "pycharm": {
          "metadata": false,
          "name": "#%%\n",
          "is_executing": false
        }
      }
    },
    {
      "cell_type": "markdown",
      "source": "which is below the [fair access policy of TheThingsNetwork (30 seconds / 24h)](https://forum.thethingsnetwork.org/t/limitations-data-rate-packet-size-30-seconds-day-fair-access-policy-nodes-per-gateway/1300).\n\nTo the contrary, sending a packet every 5 minute would exceed TheThingsNetwork fair access policy. \n\n## Daily packet count\n",
      "metadata": {
        "pycharm": {
          "metadata": false,
          "name": "#%% md\n"
        }
      }
    },
    {
      "cell_type": "code",
      "execution_count": 9,
      "outputs": [
        {
          "data": {
            "text/plain": "SF            7          8          9         10        11        12\ncount  72.727273  36.363636  18.181818  9.090909  4.545455  2.302326",
            "text/html": "\u003cdiv\u003e\n\u003cstyle scoped\u003e\n    .dataframe tbody tr th:only-of-type {\n        vertical-align: middle;\n    }\n\n    .dataframe tbody tr th {\n        vertical-align: top;\n    }\n\n    .dataframe thead th {\n        text-align: right;\n    }\n\u003c/style\u003e\n\u003ctable border\u003d\"1\" class\u003d\"dataframe\"\u003e\n  \u003cthead\u003e\n    \u003ctr style\u003d\"text-align: right;\"\u003e\n      \u003cth\u003eSF\u003c/th\u003e\n      \u003cth\u003e7\u003c/th\u003e\n      \u003cth\u003e8\u003c/th\u003e\n      \u003cth\u003e9\u003c/th\u003e\n      \u003cth\u003e10\u003c/th\u003e\n      \u003cth\u003e11\u003c/th\u003e\n      \u003cth\u003e12\u003c/th\u003e\n    \u003c/tr\u003e\n  \u003c/thead\u003e\n  \u003ctbody\u003e\n    \u003ctr\u003e\n      \u003cth\u003ecount\u003c/th\u003e\n      \u003ctd\u003e72.727273\u003c/td\u003e\n      \u003ctd\u003e36.363636\u003c/td\u003e\n      \u003ctd\u003e18.181818\u003c/td\u003e\n      \u003ctd\u003e9.090909\u003c/td\u003e\n      \u003ctd\u003e4.545455\u003c/td\u003e\n      \u003ctd\u003e2.302326\u003c/td\u003e\n    \u003c/tr\u003e\n  \u003c/tbody\u003e\n\u003c/table\u003e\n\u003c/div\u003e"
          },
          "metadata": {},
          "output_type": "execute_result",
          "execution_count": 9
        }
      ],
      "source": "daily_count_by_sf \u003d tenminute_sequence[[\u0027SF\u0027]].groupby(\u0027SF\u0027).resample(\u00271D\u0027).count()[:-1].rename(columns\u003d{\u0027SF\u0027: \u0027count\u0027})\ndaily_count_by_sf.mean(level\u003d0).T\n\n",
      "metadata": {
        "pycharm": {
          "metadata": false,
          "name": "#%%\n",
          "is_executing": false
        }
      }
    }
  ],
  "metadata": {
    "language_info": {
      "codemirror_mode": {
        "name": "ipython",
        "version": 2
      },
      "file_extension": ".py",
      "mimetype": "text/x-python",
      "name": "python",
      "nbconvert_exporter": "python",
      "pygments_lexer": "ipython2",
      "version": "2.7.6"
    },
    "kernelspec": {
      "name": "python3",
      "language": "python",
      "display_name": "Python 3"
    },
    "stem_cell": {
      "cell_type": "raw",
      "source": "",
      "metadata": {
        "pycharm": {
          "metadata": false
        }
      }
    }
  },
  "nbformat": 4,
  "nbformat_minor": 0
}