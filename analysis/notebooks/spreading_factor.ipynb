{
  "cells": [
    {
      "cell_type": "code",
      "execution_count": 15,
      "outputs": [],
      "source": "%matplotlib inline\nimport matplotlib.pyplot as plt\nimport seaborn as sns\nsns.set_style(\"darkgrid\")\nimport numpy as np\nimport pandas as pd\nplt.rcParams[\"figure.figsize\"] \u003d [8, 6]",
      "metadata": {
        "pycharm": {
          "metadata": false,
          "name": "#%%\n",
          "is_executing": false
        }
      }
    },
    {
      "cell_type": "markdown",
      "metadata": {
        "collapsed": true,
        "pycharm": {
          "name": "#%% md\n"
        }
      },
      "source": "# Spreading Factor\n\n## Airtime\n\nThe higher the SF parameter is, the longer it takes to send a packet.\nAs the duty cycle limitation is computed based on the airtime, the higher SF were chosen less often than the lower."
    },
    {
      "cell_type": "code",
      "execution_count": 11,
      "outputs": [],
      "source": "def insert_packet(spreading_factor):\n    if spreading_factor \u003c 7:\n        return []\n    return insert_packet(spreading_factor - 1) + [spreading_factor] + insert_packet(spreading_factor - 1)\n\nsf_as_category \u003d pd.Categorical(insert_packet(12), categories\u003d[7, 8, 9, 10, 11, 12], ordered\u003dTrue)\npyramid \u003d pd.DataFrame({\u0027SF\u0027: sf_as_category})\npyramid[\u0027seq_num\u0027] \u003d pyramid.index",
      "metadata": {
        "pycharm": {
          "metadata": false,
          "name": "#%%\n",
          "is_executing": false
        }
      }
    },
    {
      "cell_type": "code",
      "execution_count": 20,
      "outputs": [
        {
          "data": {
            "text/plain": "\u003cFigure size 576x432 with 1 Axes\u003e",
            "image/png": "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\u003d\u003d\n"
          },
          "metadata": {},
          "output_type": "display_data"
        }
      ],
      "source": "cmap \u003d sns.color_palette(\u0027Blues_d\u0027, 6)\nfig \u003d sns.scatterplot(x\u003dpyramid.index, y\u003d\u0027SF\u0027, data\u003dpyramid, hue\u003d\u0027SF\u0027, legend\u003dFalse, palette\u003dcmap)\nfig.set_ylabel(\u0027spreading factor\u0027)\nfig.set_xlabel(\u0027time\u0027)\nfig.figure.savefig(\u0027../sf_sequence.png\u0027)",
      "metadata": {
        "pycharm": {
          "metadata": false,
          "name": "#%%\n",
          "is_executing": false
        }
      }
    },
    {
      "cell_type": "code",
      "execution_count": 17,
      "outputs": [
        {
          "data": {
            "text/plain": "SF       7   8   9   10  11  12\nseq_num  32  16   8   4   2   1",
            "text/html": "\u003cdiv\u003e\n\u003cstyle scoped\u003e\n    .dataframe tbody tr th:only-of-type {\n        vertical-align: middle;\n    }\n\n    .dataframe tbody tr th {\n        vertical-align: top;\n    }\n\n    .dataframe thead th {\n        text-align: right;\n    }\n\u003c/style\u003e\n\u003ctable border\u003d\"1\" class\u003d\"dataframe\"\u003e\n  \u003cthead\u003e\n    \u003ctr style\u003d\"text-align: right;\"\u003e\n      \u003cth\u003eSF\u003c/th\u003e\n      \u003cth\u003e7\u003c/th\u003e\n      \u003cth\u003e8\u003c/th\u003e\n      \u003cth\u003e9\u003c/th\u003e\n      \u003cth\u003e10\u003c/th\u003e\n      \u003cth\u003e11\u003c/th\u003e\n      \u003cth\u003e12\u003c/th\u003e\n    \u003c/tr\u003e\n  \u003c/thead\u003e\n  \u003ctbody\u003e\n    \u003ctr\u003e\n      \u003cth\u003eseq_num\u003c/th\u003e\n      \u003ctd\u003e32\u003c/td\u003e\n      \u003ctd\u003e16\u003c/td\u003e\n      \u003ctd\u003e8\u003c/td\u003e\n      \u003ctd\u003e4\u003c/td\u003e\n      \u003ctd\u003e2\u003c/td\u003e\n      \u003ctd\u003e1\u003c/td\u003e\n    \u003c/tr\u003e\n  \u003c/tbody\u003e\n\u003c/table\u003e\n\u003c/div\u003e"
          },
          "metadata": {},
          "output_type": "execute_result",
          "execution_count": 17
        }
      ],
      "source": "pyramid.groupby(\u0027SF\u0027).count().T",
      "metadata": {
        "pycharm": {
          "metadata": false,
          "name": "#%%\n",
          "is_executing": false
        }
      }
    },
    {
      "cell_type": "code",
      "execution_count": 18,
      "outputs": [
        {
          "data": {
            "text/plain": "\u003cFigure size 576x432 with 1 Axes\u003e",
            "image/png": "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\u003d\n"
          },
          "metadata": {},
          "output_type": "display_data"
        }
      ],
      "source": "fig \u003d sns.countplot(\u0027SF\u0027, data\u003dpyramid, palette\u003dcmap)\nfig.set_xlabel(\u0027spreading factor\u0027)\nfig.set_title(\u0027Packet count by spreading factor\u0027);",
      "metadata": {
        "pycharm": {
          "metadata": false,
          "name": "#%%\n",
          "is_executing": false
        }
      }
    },
    {
      "cell_type": "markdown",
      "source": "Using airtime calculator: https://avbentem.github.io/lorawan-airtime-ui/ttn/eu868/5",
      "metadata": {
        "pycharm": {
          "metadata": false,
          "name": "#%% md\n"
        }
      }
    },
    {
      "cell_type": "code",
      "execution_count": 7,
      "outputs": [],
      "source": "lorawan_airtime \u003d pd.DataFrame({\u0027SF\u0027: [7, 8, 9, 10, 11, 12],\n                                \u0027airtime\u0027: [51.46, 92.67, 185.34, 329.73, 659.46, 1318.91]})\nlorawan_airtime[\u0027airtime\u0027] \u003d lorawan_airtime[\u0027airtime\u0027] / 1000\npacket_sequence \u003d pyramid.merge(lorawan_airtime, on\u003d\u0027SF\u0027, how\u003d\u0027inner\u0027).sort_values(\u0027seq_num\u0027).set_index(\u0027seq_num\u0027)",
      "metadata": {
        "pycharm": {
          "metadata": false,
          "name": "#%%\n",
          "is_executing": false
        }
      }
    },
    {
      "cell_type": "markdown",
      "source": "In seconds, the airtime per 24 hours is equal to",
      "metadata": {
        "pycharm": {
          "metadata": false,
          "name": "#%% md\n"
        }
      }
    },
    {
      "cell_type": "code",
      "execution_count": 8,
      "outputs": [
        {
          "data": {
            "text/plain": "19.582314883720912"
          },
          "metadata": {},
          "output_type": "execute_result",
          "execution_count": 8
        }
      ],
      "source": "index \u003d pd.timedelta_range(start\u003d\u00270 day\u0027, periods\u003dlen(packet_sequence.index) * 100, freq\u003d\u002710 min\u0027)\ntenminute_sequence \u003d packet_sequence\nfor i in range(99):\n    tenminute_sequence \u003d tenminute_sequence.append(packet_sequence)\ntenminute_sequence.index \u003d index\ntenminute_sequence.resample(\u00271D\u0027).sum()[\u0027airtime\u0027][0:-1].mean()",
      "metadata": {
        "pycharm": {
          "metadata": false,
          "name": "#%%\n",
          "is_executing": false
        }
      }
    },
    {
      "cell_type": "markdown",
      "source": "which is below the [fair access policy of TheThingsNetwork (30 seconds / 24h)](https://forum.thethingsnetwork.org/t/limitations-data-rate-packet-size-30-seconds-day-fair-access-policy-nodes-per-gateway/1300).\n\nTo the contrary, sending a packet every 5 minute would exceed TheThingsNetwork fair access policy. \n\n## Daily packet count\n",
      "metadata": {
        "pycharm": {
          "metadata": false,
          "name": "#%% md\n"
        }
      }
    },
    {
      "cell_type": "code",
      "execution_count": 9,
      "outputs": [
        {
          "data": {
            "text/plain": "SF            7          8          9         10        11        12\ncount  72.727273  36.363636  18.181818  9.090909  4.545455  2.302326",
            "text/html": "\u003cdiv\u003e\n\u003cstyle scoped\u003e\n    .dataframe tbody tr th:only-of-type {\n        vertical-align: middle;\n    }\n\n    .dataframe tbody tr th {\n        vertical-align: top;\n    }\n\n    .dataframe thead th {\n        text-align: right;\n    }\n\u003c/style\u003e\n\u003ctable border\u003d\"1\" class\u003d\"dataframe\"\u003e\n  \u003cthead\u003e\n    \u003ctr style\u003d\"text-align: right;\"\u003e\n      \u003cth\u003eSF\u003c/th\u003e\n      \u003cth\u003e7\u003c/th\u003e\n      \u003cth\u003e8\u003c/th\u003e\n      \u003cth\u003e9\u003c/th\u003e\n      \u003cth\u003e10\u003c/th\u003e\n      \u003cth\u003e11\u003c/th\u003e\n      \u003cth\u003e12\u003c/th\u003e\n    \u003c/tr\u003e\n  \u003c/thead\u003e\n  \u003ctbody\u003e\n    \u003ctr\u003e\n      \u003cth\u003ecount\u003c/th\u003e\n      \u003ctd\u003e72.727273\u003c/td\u003e\n      \u003ctd\u003e36.363636\u003c/td\u003e\n      \u003ctd\u003e18.181818\u003c/td\u003e\n      \u003ctd\u003e9.090909\u003c/td\u003e\n      \u003ctd\u003e4.545455\u003c/td\u003e\n      \u003ctd\u003e2.302326\u003c/td\u003e\n    \u003c/tr\u003e\n  \u003c/tbody\u003e\n\u003c/table\u003e\n\u003c/div\u003e"
          },
          "metadata": {},
          "output_type": "execute_result",
          "execution_count": 9
        }
      ],
      "source": "daily_count_by_sf \u003d tenminute_sequence[[\u0027SF\u0027]].groupby(\u0027SF\u0027).resample(\u00271D\u0027).count()[:-1].rename(columns\u003d{\u0027SF\u0027: \u0027count\u0027})\ndaily_count_by_sf.mean(level\u003d0).T\n\n",
      "metadata": {
        "pycharm": {
          "metadata": false,
          "name": "#%%\n",
          "is_executing": false
        }
      }
    }
  ],
  "metadata": {
    "language_info": {
      "codemirror_mode": {
        "name": "ipython",
        "version": 2
      },
      "file_extension": ".py",
      "mimetype": "text/x-python",
      "name": "python",
      "nbconvert_exporter": "python",
      "pygments_lexer": "ipython2",
      "version": "2.7.6"
    },
    "kernelspec": {
      "name": "python3",
      "language": "python",
      "display_name": "Python 3"
    },
    "stem_cell": {
      "cell_type": "raw",
      "source": "",
      "metadata": {
        "pycharm": {
          "metadata": false
        }
      }
    }
  },
  "nbformat": 4,
  "nbformat_minor": 0
}